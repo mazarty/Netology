{
 "cells": [
  {
   "cell_type": "code",
   "execution_count": 30,
   "metadata": {},
   "outputs": [
    {
     "name": "stdout",
     "output_type": "stream",
     "text": [
      "m\n"
     ]
    }
   ],
   "source": [
    "#задание1\n",
    "word_tmp = 'cucumbers'\n",
    "if len(word_tmp)%2==0: print(word_tmp[int(len(word_tmp)/2)-1]+word_tmp[int(len(word_tmp)/2)])\n",
    "else: print(word_tmp[int(len(word_tmp)/2)])"
   ]
  },
  {
   "cell_type": "code",
   "execution_count": 43,
   "metadata": {},
   "outputs": [
    {
     "name": "stdout",
     "output_type": "stream",
     "text": [
      "Введите число: 0\n",
      "Результат:  0.0\n"
     ]
    }
   ],
   "source": [
    "#задание2\n",
    "l_i=float(input('Введите число: '))\n",
    "s=l_i\n",
    "while l_i!=0: \n",
    "    l_i=float(input('Введите число: '))\n",
    "    s=s+l_i\n",
    "print('Результат: ', s)"
   ]
  },
  {
   "cell_type": "code",
   "execution_count": 72,
   "metadata": {},
   "outputs": [
    {
     "name": "stdout",
     "output_type": "stream",
     "text": [
      "Внимание, кто-то может остаться без пары!\n"
     ]
    }
   ],
   "source": [
    "#задание3\n",
    "boys = ['Peter', 'Alex', 'John', 'Arthur', 'Richard']\n",
    "girls = ['Kate', 'Liza', 'Kira', 'Emma', 'Trisha','Olga']\n",
    "\n",
    "if len(boys) == len(girls):\n",
    "    pares = zip(sorted(boys), sorted(girls))\n",
    "    print('Идеальные пары:')\n",
    "    for i in pares:\n",
    "        print(i[0], ' и ', i[1])\n",
    "else: print('Внимание, кто-то может остаться без пары!')"
   ]
  },
  {
   "cell_type": "code",
   "execution_count": 88,
   "metadata": {},
   "outputs": [
    {
     "name": "stdout",
     "output_type": "stream",
     "text": [
      "Thailand =  23.9 C\n",
      "Germany =  13.8 C\n",
      "Russia =  3.7 C\n",
      "Poland =  12.0 C\n"
     ]
    }
   ],
   "source": [
    "#задание4\n",
    "import numpy\n",
    "countries_temperature = [\n",
    "['Thailand', [75.2, 77, 78.8, 73.4, 68, 75.2, 77]],\n",
    "['Germany', [57.2, 55.4, 59, 59, 53.6]],\n",
    "['Russia', [35.6, 37.4, 39.2, 41, 42.8, 39.2, 35.6]],\n",
    "['Poland', [50, 50, 53.6, 57.2, 55.4, 55.4]]\n",
    "]\n",
    "\n",
    "for i in countries_temperature:\n",
    "    print(i[0], '= ', round((numpy.mean(i[1])-32 )/1.8,1 ), 'C')"
   ]
  },
  {
   "cell_type": "code",
   "execution_count": 54,
   "metadata": {},
   "outputs": [
    {
     "name": "stdout",
     "output_type": "stream",
     "text": [
      "Среднее количество просмотров на уникального пользователя: 145.33\n"
     ]
    }
   ],
   "source": [
    "#задание5\n",
    "stream = [\n",
    "'2018-01-01,user100,150',\n",
    "'2018-01-07,user99,205',\n",
    "'2018-03-29,user1001,81'\n",
    "]\n",
    "\n",
    "cnt_pages=0\n",
    "cnt_users =0\n",
    "users=[]\n",
    "\n",
    "for str_ in stream:\n",
    "    str_list=str_.split(',')\n",
    "    cnt_pages = cnt_pages+ int(str_list[2])\n",
    "    if str_list[1] not in users:    \n",
    "        cnt_users=cnt_users+1\n",
    "        users.append(str_list[1])\n",
    "print('Среднее количество просмотров на уникального пользователя:', round(cnt_pages/cnt_users,2))\n",
    "\n",
    "        \n",
    "\n",
    "    \n",
    "    "
   ]
  },
  {
   "cell_type": "code",
   "execution_count": 90,
   "metadata": {},
   "outputs": [
    {
     "name": "stdout",
     "output_type": "stream",
     "text": [
      "Введите числа: 1 1 1 1 1 2 2 2\n",
      "1 2 "
     ]
    }
   ],
   "source": [
    "#задание 6\n",
    "str_=input('Введите числа: ')\n",
    "\n",
    "dist=[]\n",
    "str_cnt=[]\n",
    "\n",
    "str_list = str_.split(' ')\n",
    "\n",
    "for i in str_list:\n",
    "    if [i,0] not in dist: dist.append([i,0])\n",
    "\n",
    "for j in dist:\n",
    "    for i in str_list:\n",
    "        if int(i) == int(j[0]): \n",
    "            j[1]=j[1]+1\n",
    "\n",
    "for j in dist:\n",
    "    if int(j[1])>1: print(j[0], end=' ')\n",
    "\n",
    "#print(dist_num)"
   ]
  }
 ],
 "metadata": {
  "kernelspec": {
   "display_name": "Python 3",
   "language": "python",
   "name": "python3"
  },
  "language_info": {
   "codemirror_mode": {
    "name": "ipython",
    "version": 3
   },
   "file_extension": ".py",
   "mimetype": "text/x-python",
   "name": "python",
   "nbconvert_exporter": "python",
   "pygments_lexer": "ipython3",
   "version": "3.8.3"
  }
 },
 "nbformat": 4,
 "nbformat_minor": 4
}
